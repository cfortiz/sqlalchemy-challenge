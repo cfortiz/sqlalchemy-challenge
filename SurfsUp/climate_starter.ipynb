{
 "cells": [
  {
   "cell_type": "code",
   "execution_count": 271,
   "metadata": {},
   "outputs": [],
   "source": [
    "%matplotlib inline\n",
    "from matplotlib import style\n",
    "style.use('fivethirtyeight')\n",
    "import matplotlib.pyplot as plt"
   ]
  },
  {
   "cell_type": "code",
   "execution_count": 272,
   "metadata": {},
   "outputs": [],
   "source": [
    "import datetime as dt\n",
    "\n",
    "import numpy as np\n",
    "import pandas as pd"
   ]
  },
  {
   "cell_type": "markdown",
   "metadata": {},
   "source": [
    "# Reflect Tables into SQLAlchemy ORM"
   ]
  },
  {
   "cell_type": "code",
   "execution_count": 273,
   "metadata": {},
   "outputs": [],
   "source": [
    "# Python SQL toolkit and Object Relational Mapper\n",
    "import sqlalchemy\n",
    "from sqlalchemy.ext.automap import automap_base\n",
    "from sqlalchemy.orm import Session\n",
    "from sqlalchemy import create_engine, inspect, func, desc"
   ]
  },
  {
   "cell_type": "code",
   "execution_count": 274,
   "metadata": {},
   "outputs": [],
   "source": [
    "# create engine to hawaii.sqlite\n",
    "engine = create_engine(\"sqlite:///Resources/hawaii.sqlite\")\n",
    "inspector = inspect(engine)"
   ]
  },
  {
   "cell_type": "code",
   "execution_count": 275,
   "metadata": {},
   "outputs": [],
   "source": [
    "# reflect an existing database into a new model\n",
    "Base = automap_base()\n",
    "\n",
    "# reflect the tables\n",
    "Base.prepare(autoload_with=engine)"
   ]
  },
  {
   "cell_type": "code",
   "execution_count": 276,
   "metadata": {},
   "outputs": [
    {
     "data": {
      "text/plain": [
       "['station', 'measurement']"
      ]
     },
     "execution_count": 276,
     "metadata": {},
     "output_type": "execute_result"
    }
   ],
   "source": [
    "# View all of the classes that automap found\n",
    "Base.classes.keys()"
   ]
  },
  {
   "cell_type": "code",
   "execution_count": 277,
   "metadata": {},
   "outputs": [],
   "source": [
    "# Save references to each table\n",
    "\n",
    "# Manual code (let's do it programmatically instead)\n",
    "# Measurement = Base.classes.measurement\n",
    "# Station = Base.classes.station\n",
    "\n",
    "# Programmatically\n",
    "# Iterate over the reflected classes dict items, generate the class name by\n",
    "# title-casing the key, and removing any spaces and underscores.  Then add to\n",
    "# the class to the globals under that name.\n",
    "for key, class_ in Base.classes.items():\n",
    "    name = key.title().replace('_', '').replace(' ', '')\n",
    "    globals()[name] = class_\n",
    "\n",
    "# Make sure programatic code worked.\n",
    "assert 'Measurement' in globals()\n",
    "assert 'Station' in globals()"
   ]
  },
  {
   "cell_type": "code",
   "execution_count": 278,
   "metadata": {},
   "outputs": [
    {
     "name": "stdout",
     "output_type": "stream",
     "text": [
      "measurement.id: INTEGER\n",
      "measurement.station: TEXT\n",
      "measurement.date: TEXT\n",
      "measurement.prcp: FLOAT\n",
      "measurement.tobs: FLOAT\n",
      "station.id: INTEGER\n",
      "station.station: TEXT\n",
      "station.name: TEXT\n",
      "station.latitude: FLOAT\n",
      "station.longitude: FLOAT\n",
      "station.elevation: FLOAT\n"
     ]
    }
   ],
   "source": [
    "# List tables, columns, and column types for each table and column in the db\n",
    "for table in inspector.get_table_names():\n",
    "    columns = inspector.get_columns(table)\n",
    "    for column in columns:\n",
    "        print(f'{table}.{column['name']}: {column['type']}')"
   ]
  },
  {
   "cell_type": "code",
   "execution_count": 279,
   "metadata": {},
   "outputs": [],
   "source": [
    "# Create our session (link) from Python to the DB\n",
    "session = Session(engine)"
   ]
  },
  {
   "cell_type": "markdown",
   "metadata": {},
   "source": [
    "# Exploratory Precipitation Analysis"
   ]
  },
  {
   "cell_type": "code",
   "execution_count": 280,
   "metadata": {},
   "outputs": [],
   "source": [
    "# Find the most recent date in the data set.\n",
    "\n",
    "# Note: sqlite doesn't have date, time, or datetime types.  After inspecting the\n",
    "# data, it's clear the date is stored as a string in format `YYYY-MM-DD`, which\n",
    "# sorts the same lexicographically as chronologically, so max(date) will work.\n",
    "# A different date format would have required more work.\n",
    "date_format = '%Y-%m-%d'\n",
    "def str2date(str_date):\n",
    "    return dt.datetime.strptime(str_date, date_format).date()\n",
    "(most_recent := session.query(func.max(Measurement.date)).first()[0])\n",
    "most_recent_date = str2date(most_recent)"
   ]
  },
  {
   "cell_type": "code",
   "execution_count": 281,
   "metadata": {},
   "outputs": [
    {
     "data": {
      "text/html": [
       "<div>\n",
       "<style scoped>\n",
       "    .dataframe tbody tr th:only-of-type {\n",
       "        vertical-align: middle;\n",
       "    }\n",
       "\n",
       "    .dataframe tbody tr th {\n",
       "        vertical-align: top;\n",
       "    }\n",
       "\n",
       "    .dataframe thead th {\n",
       "        text-align: right;\n",
       "    }\n",
       "</style>\n",
       "<table border=\"1\" class=\"dataframe\">\n",
       "  <thead>\n",
       "    <tr style=\"text-align: right;\">\n",
       "      <th></th>\n",
       "      <th>Precipitation</th>\n",
       "    </tr>\n",
       "  </thead>\n",
       "  <tbody>\n",
       "    <tr>\n",
       "      <th>count</th>\n",
       "      <td>366.000000</td>\n",
       "    </tr>\n",
       "    <tr>\n",
       "      <th>mean</th>\n",
       "      <td>0.978907</td>\n",
       "    </tr>\n",
       "    <tr>\n",
       "      <th>std</th>\n",
       "      <td>1.776349</td>\n",
       "    </tr>\n",
       "    <tr>\n",
       "      <th>min</th>\n",
       "      <td>0.000000</td>\n",
       "    </tr>\n",
       "    <tr>\n",
       "      <th>25%</th>\n",
       "      <td>0.052500</td>\n",
       "    </tr>\n",
       "    <tr>\n",
       "      <th>50%</th>\n",
       "      <td>0.405000</td>\n",
       "    </tr>\n",
       "    <tr>\n",
       "      <th>75%</th>\n",
       "      <td>1.087500</td>\n",
       "    </tr>\n",
       "    <tr>\n",
       "      <th>max</th>\n",
       "      <td>14.280000</td>\n",
       "    </tr>\n",
       "  </tbody>\n",
       "</table>\n",
       "</div>"
      ],
      "text/plain": [
       "       Precipitation\n",
       "count     366.000000\n",
       "mean        0.978907\n",
       "std         1.776349\n",
       "min         0.000000\n",
       "25%         0.052500\n",
       "50%         0.405000\n",
       "75%         1.087500\n",
       "max        14.280000"
      ]
     },
     "execution_count": 281,
     "metadata": {},
     "output_type": "execute_result"
    }
   ],
   "source": [
    "# Design a query to retrieve the last 12 months of precipitation data and plot the results.\n",
    "\n",
    "# Starting from the most recent data point in the database.\n",
    "# Calculate the date one year from the last date in data set.\n",
    "oldest_date_subquery = session.query(\n",
    "    func.date(func.max(Measurement.date), '-12 months')\n",
    ").scalar_subquery()\n",
    "\n",
    "query = session.query(Measurement.date, func.sum(Measurement.prcp))\\\n",
    "    .filter(Measurement.prcp.is_not(None))\\\n",
    "    .filter(Measurement.date >= oldest_date_subquery)\\\n",
    "    .group_by(Measurement.date)\\\n",
    "    .order_by(Measurement.date)\n",
    "\n",
    "# Debug the query\n",
    "# print(str(query))\n",
    "\n",
    "# Perform a query to retrieve the data and precipitation scores\n",
    "(data := query.all())\n",
    "\n",
    "# Save the query results as a Pandas DataFrame. Explicitly set the column names\n",
    "df = pd.DataFrame(data, columns=['Date', 'Precipitation'])\n",
    "df['Date'] = df['Date'].map(str2date)\n",
    "\n",
    "# Sort the dataframe by date\n",
    "df = df.sort_values(by='Date').set_index('Date')\n",
    "df.describe()"
   ]
  },
  {
   "cell_type": "code",
   "execution_count": 282,
   "metadata": {},
   "outputs": [
    {
     "data": {
      "image/png": "[encoded data removed]",
      "text/plain": [
       "<Figure size 1200x600 with 1 Axes>"
      ]
     },
     "metadata": {},
     "output_type": "display_data"
    }
   ],
   "source": [
    "# Use Pandas Plotting with Matplotlib to plot the data\n",
    "step = len(df)//10\n",
    "plot = df.plot(kind=\"bar\", figsize=(12, 6), width=5)\n",
    "\n",
    "# Set the title and y-axis label\n",
    "plot.set_title('Hawaii Total Daily Precipitation by Date')\n",
    "plot.set_ylabel('Precipitation (inches)')\n",
    "\n",
    "# Trick the xticks using slicing, so it only displays around 10 labels instead\n",
    "# of a label for each individual date\n",
    "plot.set_xticks(range(0, len(df), step))\n",
    "plot.set_xticklabels(df.index[::step], rotation=90)\n",
    "\n",
    "plt.show()"
   ]
  },
  {
   "cell_type": "code",
   "execution_count": 283,
   "metadata": {},
   "outputs": [
    {
     "data": {
      "text/plain": [
       "count    366.000000\n",
       "mean       0.978907\n",
       "std        1.776349\n",
       "min        0.000000\n",
       "25%        0.052500\n",
       "50%        0.405000\n",
       "75%        1.087500\n",
       "max       14.280000\n",
       "Name: Precipitation, dtype: float64"
      ]
     },
     "execution_count": 283,
     "metadata": {},
     "output_type": "execute_result"
    }
   ],
   "source": [
    "# Use Pandas to calculate the summary statistics for the precipitation data\n",
    "(precipitation_stats := df['Precipitation'].describe())"
   ]
  },
  {
   "cell_type": "markdown",
   "metadata": {},
   "source": [
    "# Exploratory Station Analysis"
   ]
  },
  {
   "cell_type": "code",
   "execution_count": 284,
   "metadata": {},
   "outputs": [
    {
     "data": {
      "text/plain": [
       "9"
      ]
     },
     "execution_count": 284,
     "metadata": {},
     "output_type": "execute_result"
    }
   ],
   "source": [
    "# Design a query to calculate the total number of stations in the dataset\n",
    "query = session.query(func.count(func.distinct(Station.id)))\n",
    "# print(str(query))  # debug query\n",
    "num_stations = query.first()[0]\n",
    "num_stations"
   ]
  },
  {
   "cell_type": "code",
   "execution_count": 285,
   "metadata": {},
   "outputs": [
    {
     "name": "stdout",
     "output_type": "stream",
     "text": [
      "Station: WAIHEE 837.5, HI US, Observations: 2772\n",
      "Station: WAIKIKI 717.2, HI US, Observations: 2724\n",
      "Station: KANEOHE 838.1, HI US, Observations: 2709\n",
      "Station: WAIMANALO EXPERIMENTAL FARM, HI US, Observations: 2669\n",
      "Station: MANOA LYON ARBO 785.2, HI US, Observations: 2612\n",
      "Station: KUALOA RANCH HEADQUARTERS 886.9, HI US, Observations: 2202\n",
      "Station: HONOLULU OBSERVATORY 702.2, HI US, Observations: 1979\n",
      "Station: PEARL CITY, HI US, Observations: 1372\n",
      "Station: UPPER WAHIAWA 874.3, HI US, Observations: 511\n"
     ]
    }
   ],
   "source": [
    "# Design a query to find the most active stations (i.e. which stations have the most rows?)\n",
    "# List the stations and their counts in descending order.\n",
    "query = session.query(\n",
    "        Station.station, Station.name,\n",
    "        func.count(func.distinct(Measurement.id)).label('observation_count'),\n",
    "    )\\\n",
    "    .filter(Measurement.station == Station.station)\\\n",
    "    .group_by(Station.station, Station.name)\\\n",
    "    .order_by(desc('observation_count'))\n",
    "\n",
    "# print(str(query))  # debug query\n",
    "\n",
    "active_stations = query.all()\n",
    "for station in active_stations:\n",
    "    name, observations = station.name, station.observation_count\n",
    "    print(f\"Station: {name}, Observations: {observations}\")\n",
    "most_active_station = active_stations[0]"
   ]
  },
  {
   "cell_type": "code",
   "execution_count": 286,
   "metadata": {},
   "outputs": [
    {
     "name": "stdout",
     "output_type": "stream",
     "text": [
      "Min temp: 54.0\n",
      "Max temp: 85.0\n",
      "Avg temp: 71.66378066378067\n"
     ]
    }
   ],
   "source": [
    "# Using the most active station id from the previous query, calculate the\n",
    "# lowest, highest, and average temperature.\n",
    "query = session.query(\n",
    "        func.min(Measurement.tobs).label('min_temp'),\n",
    "        func.max(Measurement.tobs).label('max_temp'),\n",
    "        func.avg(Measurement.tobs).label('avg_temp'),\n",
    "    )\\\n",
    "    .filter(Measurement.station == most_active_station.station)\n",
    "\n",
    "# print(str(query))\n",
    "\n",
    "temps = query.first()\n",
    "print(f\"Min temp: {temps.min_temp}\")\n",
    "print(f\"Max temp: {temps.max_temp}\")\n",
    "print(f\"Avg temp: {temps.avg_temp}\")"
   ]
  },
  {
   "cell_type": "code",
   "execution_count": 287,
   "metadata": {},
   "outputs": [
    {
     "data": {
      "text/html": [
       "<div>\n",
       "<style scoped>\n",
       "    .dataframe tbody tr th:only-of-type {\n",
       "        vertical-align: middle;\n",
       "    }\n",
       "\n",
       "    .dataframe tbody tr th {\n",
       "        vertical-align: top;\n",
       "    }\n",
       "\n",
       "    .dataframe thead th {\n",
       "        text-align: right;\n",
       "    }\n",
       "</style>\n",
       "<table border=\"1\" class=\"dataframe\">\n",
       "  <thead>\n",
       "    <tr style=\"text-align: right;\">\n",
       "      <th></th>\n",
       "      <th>Temperature</th>\n",
       "    </tr>\n",
       "  </thead>\n",
       "  <tbody>\n",
       "    <tr>\n",
       "      <th>count</th>\n",
       "      <td>357.000000</td>\n",
       "    </tr>\n",
       "    <tr>\n",
       "      <th>mean</th>\n",
       "      <td>73.196078</td>\n",
       "    </tr>\n",
       "    <tr>\n",
       "      <th>std</th>\n",
       "      <td>4.759460</td>\n",
       "    </tr>\n",
       "    <tr>\n",
       "      <th>min</th>\n",
       "      <td>59.000000</td>\n",
       "    </tr>\n",
       "    <tr>\n",
       "      <th>25%</th>\n",
       "      <td>70.000000</td>\n",
       "    </tr>\n",
       "    <tr>\n",
       "      <th>50%</th>\n",
       "      <td>74.000000</td>\n",
       "    </tr>\n",
       "    <tr>\n",
       "      <th>75%</th>\n",
       "      <td>77.000000</td>\n",
       "    </tr>\n",
       "    <tr>\n",
       "      <th>max</th>\n",
       "      <td>83.000000</td>\n",
       "    </tr>\n",
       "  </tbody>\n",
       "</table>\n",
       "</div>"
      ],
      "text/plain": [
       "       Temperature\n",
       "count   357.000000\n",
       "mean     73.196078\n",
       "std       4.759460\n",
       "min      59.000000\n",
       "25%      70.000000\n",
       "50%      74.000000\n",
       "75%      77.000000\n",
       "max      83.000000"
      ]
     },
     "execution_count": 287,
     "metadata": {},
     "output_type": "execute_result"
    }
   ],
   "source": [
    "# Using the most active station id\n",
    "# Query the last 12 months of temperature observation data for this station and plot the results as a histogram\n",
    "# Design a query to retrieve the last 12 months of precipitation data and plot the results.\n",
    "\n",
    "# Starting from the most recent data point in the database.\n",
    "# Calculate the date one year from the last date in data set.\n",
    "oldest_date_subquery = session.query(\n",
    "       func.date(func.max(Measurement.date), '-12 months')\n",
    "    )\\\n",
    "    .filter(Measurement.station == active_stations[0].station)\\\n",
    "    .scalar_subquery()\n",
    "\n",
    "query = session.query(Measurement.date, func.sum(Measurement.tobs))\\\n",
    "    .filter(Measurement.station == most_active_station.station)\\\n",
    "    .filter(Measurement.tobs.is_not(None))\\\n",
    "    .filter(Measurement.date >= oldest_date_subquery)\\\n",
    "    .group_by(Measurement.date)\\\n",
    "    .order_by(Measurement.date)\n",
    "\n",
    "# Perform a query to retrieve the data and precipitation scores\n",
    "(data := query.all())\n",
    "\n",
    "# Save the query results as a Pandas DataFrame. Explicitly set the column names\n",
    "most_active_df = pd.DataFrame(data, columns=['Date', 'Temperature'])\n",
    "most_active_df['Date'] = most_active_df['Date'].map(str2date)\n",
    "\n",
    "# Sort the dataframe by date\n",
    "most_active_df = most_active_df.sort_values(by='Date').set_index('Date')\n",
    "most_active_df.describe()"
   ]
  },
  {
   "cell_type": "code",
   "execution_count": 288,
   "metadata": {},
   "outputs": [
    {
     "data": {
      "image/png": "[encoded data removed]",
      "text/plain": [
       "<Figure size 1200x600 with 1 Axes>"
      ]
     },
     "metadata": {},
     "output_type": "display_data"
    }
   ],
   "source": [
    "\n",
    "# Plot a 12 bin histogram\n",
    "plot = most_active_df.plot(kind='hist', bins=12, figsize=(12, 6))\n",
    "\n",
    "plt.show()"
   ]
  },
  {
   "cell_type": "markdown",
   "metadata": {},
   "source": [
    "# Close Session"
   ]
  },
  {
   "cell_type": "code",
   "execution_count": 289,
   "metadata": {},
   "outputs": [],
   "source": [
    "# Close Session\n",
    "session.close()"
   ]
  }
 ],
 "metadata": {
  "anaconda-cloud": {},
  "kernel_info": {
   "name": "python3"
  },
  "kernelspec": {
   "display_name": "Python 3 (ipykernel)",
   "language": "python",
   "name": "python3"
  },
  "language_info": {
   "codemirror_mode": {
    "name": "ipython",
    "version": 3
   },
   "file_extension": ".py",
   "mimetype": "text/x-python",
   "name": "python",
   "nbconvert_exporter": "python",
   "pygments_lexer": "ipython3",
   "version": "3.12.4"
  },
  "nteract": {
   "version": "0.12.3"
  },
  "varInspector": {
   "cols": {
    "lenName": 16,
    "lenType": 16,
    "lenVar": 40
   },
   "kernels_config": {
    "python": {
     "delete_cmd_postfix": "",
     "delete_cmd_prefix": "del ",
     "library": "var_list.py",
     "varRefreshCmd": "print(var_dic_list())"
    },
    "r": {
     "delete_cmd_postfix": ") ",
     "delete_cmd_prefix": "rm(",
     "library": "var_list.r",
     "varRefreshCmd": "cat(var_dic_list()) "
    }
   },
   "types_to_exclude": [
    "module",
    "function",
    "builtin_function_or_method",
    "instance",
    "_Feature"
   ],
   "window_display": false
  }
 },
 "nbformat": 4,
 "nbformat_minor": 2
}
